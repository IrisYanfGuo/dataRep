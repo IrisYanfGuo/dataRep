{
 "cells": [
  {
   "cell_type": "code",
   "execution_count": null,
   "metadata": {
    "collapsed": true
   },
   "outputs": [],
   "source": [
    "import numpy as np\n",
    "import sklearn\n",
    "import matplotlib.pyplot as plt\n",
    "from scipy.misc import face, imresize\n",
    "from sklearn.feature_extraction.image import extract_patches_2d\n",
    "from sklearn.feature_extraction.image import reconstruct_from_patches_2d\n",
    "from sklearn.decomposition import MiniBatchDictionaryLearning"
   ]
  },
  {
   "cell_type": "code",
   "execution_count": null,
   "metadata": {
    "collapsed": true
   },
   "outputs": [],
   "source": [
    "# Step 1: Load the image\n",
    "try:  # SciPy >= 0.16 have face in misc\n",
    "    from scipy.misc import face\n",
    "    face = face(gray=True)\n",
    "except ImportError:\n",
    "    face = sp.face(gray=True)\n",
    "    \n",
    "print(face.shape)\n",
    "plt.imshow(face, cmap='gray')\n",
    "plt.show() \n",
    "H, W = face.shape\n",
    "pH, pW = 4,4\n",
    "face = imresize(face, (H/2,W/2))\n",
    "print(face.shape)"
   ]
  },
  {
   "cell_type": "code",
   "execution_count": null,
   "metadata": {
    "collapsed": true
   },
   "outputs": [],
   "source": [
    "# Step 2: Sample the patches from the image to learn. \n",
    "# Let set the number of patches to 30000\n",
    "patches = ### YOUR CODE HERE ###\n",
    "print('Number of patches: %d' %patches.shape[0],)\n",
    "\n",
    "# randomly shuffle the patches\n",
    "### YOUR CODE HERE ###\n",
    "\n",
    "print('Visualization of some patches')\n",
    "for i in range(10):\n",
    "    for j in range(10):\n",
    "        plt.subplot(10,10,i*10+j+1)\n",
    "        plt.imshow(patches[i*10+j,...], cmap='gray')\n",
    "plt.show()"
   ]
  },
  {
   "cell_type": "code",
   "execution_count": null,
   "metadata": {
    "collapsed": true
   },
   "outputs": [],
   "source": [
    "# Step 3: Normalize the data to train the dictionary\n",
    "\n",
    "# create matrix X as a reshape of the patches \n",
    "# X has the shape (num_patches x num_features)\n",
    "### YOUR CODE HERE ###\n",
    "\n",
    "# convert X to float type (np.float64)\n",
    "### YOUR CODE HERE ###\n",
    "\n",
    "# Subtract mean and divide X by its standard deviation\n",
    "### YOUR CODE HERE ###"
   ]
  },
  {
   "cell_type": "code",
   "execution_count": null,
   "metadata": {
    "collapsed": true
   },
   "outputs": [],
   "source": [
    "# Step 4: Learn the dictionary from the patches\n",
    "# create MiniBatchDictionaryLearning object \n",
    "# with: 64 components, alpha = 1, 500 iterations,\n",
    "# using 'lars' algorithm and use sparse coding with 6 non-zero coefficients\n",
    "\n",
    "d_learner = ### YOUR CODE HERE ###\n",
    "# learn the dictionary\n",
    "### YOUR CODE HERE ###\n",
    "# get the dictionary\n",
    "D = d_learner.components_\n",
    "print(D.shape)"
   ]
  },
  {
   "cell_type": "code",
   "execution_count": null,
   "metadata": {
    "collapsed": true
   },
   "outputs": [],
   "source": [
    "# Utility functions\n",
    "def sample_patches(im, pH, pW):\n",
    "    H, W = im.shape\n",
    "    patches = list([])\n",
    "    n = H / pH\n",
    "    m = W / pW\n",
    "    for i in range(n):\n",
    "        for j in range(m):\n",
    "            patch = im[i * pH:(i+1) * pH, j * pW : (j+1) * pW]\n",
    "            patches.append(patch.reshape([1,-1]))\n",
    "    patches = np.vstack(patches)\n",
    "    return patches\n",
    "\n",
    "def patches_to_img(patches, pH, pW, H, W):\n",
    "    im = np.zeros((H,W))\n",
    "    n = H / pH\n",
    "    m = W / pW\n",
    "    for i in range(n):\n",
    "        for j in range(m):\n",
    "            im[i * pH:(i+1) * pH, j * pW : (j+1) * pW] = patches[i*m+j]\n",
    "    return im"
   ]
  },
  {
   "cell_type": "code",
   "execution_count": null,
   "metadata": {
    "collapsed": true
   },
   "outputs": [],
   "source": [
    "# Step 5: prepare patches to run the reconstruction\n",
    "patches = (face, pH, pW)\n",
    "patches = patches.astype(np.float64)\n",
    "patches = patches.reshape([patches.shape[0],-1])\n",
    "mean = patches.mean(axis=0)\n",
    "patches -= mean"
   ]
  },
  {
   "cell_type": "code",
   "execution_count": null,
   "metadata": {
    "collapsed": true
   },
   "outputs": [],
   "source": [
    "# Step 6: Reconstruct the image with different number of non-zero coefficients\n",
    "transform_algorithms = [\n",
    "     {'transform_n_nonzero_coefs': 1},\n",
    "     {'transform_n_nonzero_coefs': 2},\n",
    "     {'transform_n_nonzero_coefs': 3},\n",
    "     {'transform_n_nonzero_coefs': 4},\n",
    "     {'transform_n_nonzero_coefs': 5},\n",
    "     {'transform_n_nonzero_coefs': 6},\n",
    "]\n",
    "for kwargs in transform_algorithms:\n",
    "    d_learner.set_params(transform_algorithm='lars', **kwargs)\n",
    "    # find the sparse representaion fo the patches\n",
    "    sparse_reps = ### YOUR CODE HERE ###\n",
    "    \n",
    "    # reconstruct the patches from their sparse representations and the learned dictionary\n",
    "    recon_patches = ### YOUR CODE HERE ###\n",
    "    \n",
    "    # add the mean to the reconstruction\n",
    "    recon_patches = ### YOUR CODE HERE ###\n",
    "    \n",
    "    # reshape recon_patches to num_patches x pH x pW\n",
    "    recon_patches = ### YOUR CODE HERE ###\n",
    "    \n",
    "    # put all the patches back into the reconstructed image\n",
    "    recon = patches_to_img(recon_patches, pH, pW, H/2, W/2)\n",
    "    \n",
    "    plt.title('Num Coefs %d - Reduction rate %.02f' %(kwargs['transform_n_nonzero_coefs'], \n",
    "                                                   (1.0 - float(kwargs['transform_n_nonzero_coefs']) / (pH * pW)) ))\n",
    "    plt.show()    "
   ]
  }
 ],
 "metadata": {
  "anaconda-cloud": {},
  "kernelspec": {
   "display_name": "Python [conda root]",
   "language": "python",
   "name": "conda-root-py"
  },
  "language_info": {
   "codemirror_mode": {
    "name": "ipython",
    "version": 3
   },
   "file_extension": ".py",
   "mimetype": "text/x-python",
   "name": "python",
   "nbconvert_exporter": "python",
   "pygments_lexer": "ipython3",
   "version": "3.5.2"
  }
 },
 "nbformat": 4,
 "nbformat_minor": 2
}

{
 "cells": [
  {
   "cell_type": "code",
   "execution_count": null,
   "metadata": {
    "collapsed": true
   },
   "outputs": [],
   "source": [
    "### Overview: In this exercise, you are going to do image compression using Discrete Cosine Transform - DCT\n",
    "import numpy as np\n",
    "import sklearn\n",
    "import matplotlib.pyplot as plt\n",
    "from scipy.misc import face, imresize\n",
    "from scipy.fftpack import dct,idct\n",
    "\n",
    "\n",
    "# Step 1: Load an image\n",
    "try:  # SciPy >= 0.16 have face in misc\n",
    "    from scipy.misc import face\n",
    "    face = face(gray=True)\n",
    "except ImportError:\n",
    "    face = sp.face(gray=True)\n",
    "\n",
    "H, W = face.shape\n",
    "\n",
    "#resize image so that the compression can be easily seen\n",
    "face = imresize(face, (int(H/2),int(W/2)))\n",
    "print(\"Image size: \",face.shape)\n",
    "\n",
    "H, W = face.shape\n",
    "# visualize image using matplotlib\n",
    "plt.imshow(face, cmap='gray')\n",
    "plt.show() "
   ]
  },
  {
   "cell_type": "code",
   "execution_count": null,
   "metadata": {
    "collapsed": true
   },
   "outputs": [],
   "source": [
    "# Step 2: Create patches from the original image. Normally DCT is applied with blocks of 4x4 or 8x8. In this step, you\n",
    "# will extract blocks of size 4x4 pixels. Then you will compute dct coefficients and do the compression by removing\n",
    "# higher frequency components. Next, you reconstruct the image using inverse DCT transform.\n",
    "def sample_patches(im, pH, pW):\n",
    "    H, W = im.shape\n",
    "    patches = list([])\n",
    "    n = int(H / pH)\n",
    "    m = int(W / pW)\n",
    "    for i in range(n):\n",
    "        for j in range(m):\n",
    "            patch = im[i * pH:(i+1) * pH, j * pW : (j+1) * pW]\n",
    "            patches.append(patch.reshape([1,-1]))\n",
    "    patches = np.vstack(patches)\n",
    "    return patches\n",
    "\n",
    "def patches_to_img(patches, pH, pW, H, W):\n",
    "    im = np.zeros((H,W))\n",
    "    n = int(H / pH)\n",
    "    m = int(W / pW)\n",
    "    for i in range(n):\n",
    "        for j in range(m):\n",
    "            im[i * pH:(i+1) * pH, j * pW : (j+1) * pW] = patches[i*m+j]\n",
    "    return im\n",
    "\n",
    "patches = # YOUR CODE GOES HERE\n",
    "print(\"patches shape: \",patches.shape)\n",
    "\n",
    "# select number of low freqency components you want to keep here\n",
    "KEEP_COMPONENT = 1\n",
    "\n",
    "patches_compressed = np.zeros((patches.shape[0],patches.shape[1]))\n",
    "for indx,patch in enumerate(patches):\n",
    "    # calculate dct transform for a patch\n",
    "    patch_dct = # YOUR CODE GOES HERE\n",
    "    \n",
    "    # remove some components here\n",
    "    patch_dct[KEEP_COMPONENT:] = 0\n",
    "    \n",
    "    # reconstruct using inverse DCT\n",
    "    patches_compressed[indx,:] = # YOUR CODE GOES HERE"
   ]
  },
  {
   "cell_type": "code",
   "execution_count": null,
   "metadata": {
    "collapsed": true
   },
   "outputs": [],
   "source": [
    "# Step 3: Reconstruct the image and visualize the compressed version\n",
    "recon_patches = patches_compressed.reshape([len(patches_compressed),4,4])\n",
    "recon = # YOUR CODE GOES HERE\n",
    "print(recon.shape)\n",
    "plt.imshow(recon, cmap='gray')\n",
    "plt.show() "
   ]
  }
 ],
 "metadata": {
  "anaconda-cloud": {},
  "kernelspec": {
   "display_name": "Python [default]",
   "language": "python",
   "name": "python3"
  },
  "language_info": {
   "codemirror_mode": {
    "name": "ipython",
    "version": 3
   },
   "file_extension": ".py",
   "mimetype": "text/x-python",
   "name": "python",
   "nbconvert_exporter": "python",
   "pygments_lexer": "ipython3",
   "version": "3.5.2"
  }
 },
 "nbformat": 4,
 "nbformat_minor": 2
}

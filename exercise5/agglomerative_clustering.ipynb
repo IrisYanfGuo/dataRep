{
 "cells": [
  {
   "cell_type": "code",
   "execution_count": null,
   "metadata": {
    "collapsed": true
   },
   "outputs": [],
   "source": [
    "from sklearn import datasets\n",
    "import scipy.cluster\n",
    "import sklearn.metrics\n",
    "import sklearn.cluster\n",
    "import matplotlib.pyplot as plt"
   ]
  },
  {
   "cell_type": "code",
   "execution_count": null,
   "metadata": {
    "collapsed": true
   },
   "outputs": [],
   "source": [
    "# Step 1: load dataset\n",
    "digits = datasets.load_digits(n_class=5) \n",
    "X = digits.data"
   ]
  },
  {
   "cell_type": "code",
   "execution_count": null,
   "metadata": {
    "collapsed": true
   },
   "outputs": [],
   "source": [
    "# Step 2: perform Agglomerative Clustering\n",
    "# Agglomerative clustering with 'complete linkage' \n",
    "### YOUR CODE HERE ### \n",
    "\n",
    "# Agglomerative clustering with 'group average linkage'\n",
    "### YOUR CODE HERE ### "
   ]
  },
  {
   "cell_type": "code",
   "execution_count": null,
   "metadata": {
    "collapsed": true
   },
   "outputs": [],
   "source": [
    "# Step 3: calculate the silhouette score of the results\n",
    "s_score1 = ### YOUR CODE HERE ### \n",
    "s_score2 = ### YOUR CODE HERE ### \n",
    "print('Silhouette score - complete linkage: %f' %s_score1)\n",
    "print('Silhouette score - group average linkage: %f' %s_score2)"
   ]
  },
  {
   "cell_type": "code",
   "execution_count": null,
   "metadata": {
    "collapsed": true
   },
   "outputs": [],
   "source": [
    "# Step 5: generate dendrograms \n",
    "# 'complete linkage' \n",
    "### YOUR CODE HERE ###\n",
    "plt.show()\n",
    "\n",
    "# 'group average linkage'\n",
    "### YOUR CODE HERE ###\n",
    "plt.show()"
   ]
  }
 ],
 "metadata": {
  "kernelspec": {
   "display_name": "Python 2",
   "language": "python",
   "name": "python2"
  },
  "language_info": {
   "codemirror_mode": {
    "name": "ipython",
    "version": 2
   },
   "file_extension": ".py",
   "mimetype": "text/x-python",
   "name": "python",
   "nbconvert_exporter": "python",
   "pygments_lexer": "ipython2",
   "version": "2.7.12"
  }
 },
 "nbformat": 4,
 "nbformat_minor": 2
}
